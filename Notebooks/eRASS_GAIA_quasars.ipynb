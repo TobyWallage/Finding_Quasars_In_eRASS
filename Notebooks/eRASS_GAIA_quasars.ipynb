{
 "cells": [
  {
   "cell_type": "markdown",
   "metadata": {},
   "source": [
    "### Imports"
   ]
  },
  {
   "cell_type": "code",
   "execution_count": 46,
   "metadata": {},
   "outputs": [],
   "source": [
    "# Imports\n",
    "import numpy as np # math\n",
    "\n",
    "from astropy.table import Table # Reading and storing the data tables\n",
    "from astropy.coordinates import SkyCoord # crossmatching coordinates    \n"
   ]
  },
  {
   "cell_type": "markdown",
   "metadata": {},
   "source": [
    "# Loading Data"
   ]
  },
  {
   "cell_type": "markdown",
   "metadata": {},
   "source": [
    "## eRASS1"
   ]
  },
  {
   "cell_type": "markdown",
   "metadata": {},
   "source": [
    "Load in and check structure of the eRASS1 main source catalogue. <br>\n",
    "Available to download from [here (ID 1)](https://erosita.mpe.mpg.de/dr1/AllSkySurveyData_dr1/Catalogues_dr1/)."
   ]
  },
  {
   "cell_type": "code",
   "execution_count": 47,
   "metadata": {},
   "outputs": [
    {
     "name": "stdout",
     "output_type": "stream",
     "text": [
      "930203 Sources\n"
     ]
    },
    {
     "data": {
      "text/html": [
       "<div><i>Table length=3</i>\n",
       "<table id=\"table1683240857904\" class=\"table-striped table-bordered table-condensed\">\n",
       "<thead><tr><th>IAUNAME</th><th>DETUID</th><th>SKYTILE</th><th>ID_SRC</th><th>UID</th><th>UID_Hard</th><th>ID_CLUSTER</th><th>RA</th><th>DEC</th><th>RA_RAW</th><th>DEC_RAW</th><th>RA_LOWERR</th><th>RA_UPERR</th><th>DEC_LOWERR</th><th>DEC_UPERR</th><th>POS_ERR</th><th>RADEC_ERR</th><th>LII</th><th>BII</th><th>ELON</th><th>ELAT</th><th>MJD</th><th>MJD_MIN</th><th>MJD_MAX</th><th>EXT</th><th>EXT_ERR</th><th>EXT_LOWERR</th><th>EXT_UPERR</th><th>EXT_LIKE</th><th>DET_LIKE_0</th><th>ML_CTS_1</th><th>ML_CTS_ERR_1</th><th>ML_CTS_LOWERR_1</th><th>ML_CTS_UPERR_1</th><th>ML_RATE_1</th><th>ML_RATE_ERR_1</th><th>ML_RATE_LOWERR_1</th><th>ML_RATE_UPERR_1</th><th>ML_FLUX_1</th><th>ML_FLUX_ERR_1</th><th>ML_FLUX_LOWERR_1</th><th>ML_FLUX_UPERR_1</th><th>ML_BKG_1</th><th>ML_EXP_1</th><th>ML_EEF_1</th><th>APE_CTS_1</th><th>APE_BKG_1</th><th>APE_EXP_1</th><th>APE_RADIUS_1</th><th>APE_POIS_1</th><th>DET_LIKE_P1</th><th>ML_CTS_P1</th><th>ML_CTS_ERR_P1</th><th>ML_CTS_LOWERR_P1</th><th>ML_CTS_UPERR_P1</th><th>ML_RATE_P1</th><th>ML_RATE_ERR_P1</th><th>ML_RATE_LOWERR_P1</th><th>ML_RATE_UPERR_P1</th><th>ML_FLUX_P1</th><th>ML_FLUX_ERR_P1</th><th>ML_FLUX_LOWERR_P1</th><th>ML_FLUX_UPERR_P1</th><th>ML_BKG_P1</th><th>ML_EXP_P1</th><th>ML_EEF_P1</th><th>APE_CTS_P1</th><th>APE_BKG_P1</th><th>APE_EXP_P1</th><th>APE_RADIUS_P1</th><th>APE_POIS_P1</th><th>DET_LIKE_P2</th><th>ML_CTS_P2</th><th>ML_CTS_ERR_P2</th><th>ML_CTS_LOWERR_P2</th><th>ML_CTS_UPERR_P2</th><th>ML_RATE_P2</th><th>ML_RATE_ERR_P2</th><th>ML_RATE_LOWERR_P2</th><th>ML_RATE_UPERR_P2</th><th>ML_FLUX_P2</th><th>ML_FLUX_ERR_P2</th><th>ML_FLUX_LOWERR_P2</th><th>ML_FLUX_UPERR_P2</th><th>ML_BKG_P2</th><th>ML_EXP_P2</th><th>ML_EEF_P2</th><th>APE_CTS_P2</th><th>APE_BKG_P2</th><th>APE_EXP_P2</th><th>APE_RADIUS_P2</th><th>APE_POIS_P2</th><th>DET_LIKE_P3</th><th>ML_CTS_P3</th><th>ML_CTS_ERR_P3</th><th>ML_CTS_LOWERR_P3</th><th>ML_CTS_UPERR_P3</th><th>ML_RATE_P3</th><th>ML_RATE_ERR_P3</th><th>ML_RATE_LOWERR_P3</th><th>ML_RATE_UPERR_P3</th><th>ML_FLUX_P3</th><th>ML_FLUX_ERR_P3</th><th>ML_FLUX_LOWERR_P3</th><th>ML_FLUX_UPERR_P3</th><th>ML_BKG_P3</th><th>ML_EXP_P3</th><th>ML_EEF_P3</th><th>APE_CTS_P3</th><th>APE_BKG_P3</th><th>APE_EXP_P3</th><th>APE_RADIUS_P3</th><th>APE_POIS_P3</th><th>DET_LIKE_P4</th><th>ML_CTS_P4</th><th>ML_CTS_ERR_P4</th><th>ML_CTS_LOWERR_P4</th><th>ML_CTS_UPERR_P4</th><th>ML_RATE_P4</th><th>ML_RATE_ERR_P4</th><th>ML_RATE_LOWERR_P4</th><th>ML_RATE_UPERR_P4</th><th>ML_FLUX_P4</th><th>ML_FLUX_ERR_P4</th><th>ML_FLUX_LOWERR_P4</th><th>ML_FLUX_UPERR_P4</th><th>ML_BKG_P4</th><th>ML_EXP_P4</th><th>ML_EEF_P4</th><th>APE_CTS_P4</th><th>APE_BKG_P4</th><th>APE_EXP_P4</th><th>APE_RADIUS_P4</th><th>APE_POIS_P4</th><th>DET_LIKE_P5</th><th>ML_CTS_P5</th><th>ML_CTS_ERR_P5</th><th>ML_CTS_LOWERR_P5</th><th>ML_CTS_UPERR_P5</th><th>ML_RATE_P5</th><th>ML_RATE_ERR_P5</th><th>ML_RATE_LOWERR_P5</th><th>ML_RATE_UPERR_P5</th><th>ML_FLUX_P5</th><th>ML_FLUX_ERR_P5</th><th>ML_FLUX_LOWERR_P5</th><th>ML_FLUX_UPERR_P5</th><th>ML_BKG_P5</th><th>ML_EXP_P5</th><th>ML_EEF_P5</th><th>APE_CTS_P5</th><th>APE_BKG_P5</th><th>APE_EXP_P5</th><th>APE_RADIUS_P5</th><th>APE_POIS_P5</th><th>DET_LIKE_P6</th><th>ML_CTS_P6</th><th>ML_CTS_ERR_P6</th><th>ML_CTS_LOWERR_P6</th><th>ML_CTS_UPERR_P6</th><th>ML_RATE_P6</th><th>ML_RATE_ERR_P6</th><th>ML_RATE_LOWERR_P6</th><th>ML_RATE_UPERR_P6</th><th>ML_FLUX_P6</th><th>ML_FLUX_ERR_P6</th><th>ML_FLUX_LOWERR_P6</th><th>ML_FLUX_UPERR_P6</th><th>ML_BKG_P6</th><th>ML_EXP_P6</th><th>ML_EEF_P6</th><th>APE_CTS_P6</th><th>APE_BKG_P6</th><th>APE_EXP_P6</th><th>APE_RADIUS_P6</th><th>APE_POIS_P6</th><th>DET_LIKE_P7</th><th>ML_CTS_P7</th><th>ML_CTS_ERR_P7</th><th>ML_CTS_LOWERR_P7</th><th>ML_CTS_UPERR_P7</th><th>ML_RATE_P7</th><th>ML_RATE_ERR_P7</th><th>ML_RATE_LOWERR_P7</th><th>ML_RATE_UPERR_P7</th><th>ML_FLUX_P7</th><th>ML_FLUX_ERR_P7</th><th>ML_FLUX_LOWERR_P7</th><th>ML_FLUX_UPERR_P7</th><th>ML_BKG_P7</th><th>ML_EXP_P7</th><th>ML_EEF_P7</th><th>APE_CTS_P7</th><th>APE_BKG_P7</th><th>APE_EXP_P7</th><th>APE_RADIUS_P7</th><th>APE_POIS_P7</th><th>DET_LIKE_P8</th><th>ML_CTS_P8</th><th>ML_CTS_ERR_P8</th><th>ML_CTS_LOWERR_P8</th><th>ML_CTS_UPERR_P8</th><th>ML_RATE_P8</th><th>ML_RATE_ERR_P8</th><th>ML_RATE_LOWERR_P8</th><th>ML_RATE_UPERR_P8</th><th>ML_FLUX_P8</th><th>ML_FLUX_ERR_P8</th><th>ML_FLUX_LOWERR_P8</th><th>ML_FLUX_UPERR_P8</th><th>ML_BKG_P8</th><th>ML_EXP_P8</th><th>ML_EEF_P8</th><th>APE_CTS_P8</th><th>APE_BKG_P8</th><th>APE_EXP_P8</th><th>APE_RADIUS_P8</th><th>APE_POIS_P8</th><th>DET_LIKE_P9</th><th>ML_CTS_P9</th><th>ML_CTS_ERR_P9</th><th>ML_CTS_LOWERR_P9</th><th>ML_CTS_UPERR_P9</th><th>ML_RATE_P9</th><th>ML_RATE_ERR_P9</th><th>ML_RATE_LOWERR_P9</th><th>ML_RATE_UPERR_P9</th><th>ML_FLUX_P9</th><th>ML_FLUX_ERR_P9</th><th>ML_FLUX_LOWERR_P9</th><th>ML_FLUX_UPERR_P9</th><th>ML_BKG_P9</th><th>ML_EXP_P9</th><th>ML_EEF_P9</th><th>APE_CTS_P9</th><th>APE_BKG_P9</th><th>APE_EXP_P9</th><th>APE_RADIUS_P9</th><th>APE_POIS_P9</th><th>APE_CTS_S</th><th>APE_BKG_S</th><th>APE_EXP_S</th><th>APE_POIS_S</th><th>FLAG_SP_SNR</th><th>FLAG_SP_BPS</th><th>FLAG_SP_SCL</th><th>FLAG_SP_LGA</th><th>FLAG_SP_GC_CONS</th><th>FLAG_NO_RADEC_ERR</th><th>FLAG_NO_EXT_ERR</th><th>FLAG_NO_CTS_ERR</th><th>FLAG_OPT</th></tr></thead>\n",
       "<thead><tr><th></th><th></th><th></th><th></th><th></th><th></th><th></th><th>deg</th><th>deg</th><th>deg</th><th>deg</th><th>arcsec</th><th>arcsec</th><th>arcsec</th><th>arcsec</th><th></th><th></th><th>deg</th><th>deg</th><th>deg</th><th>deg</th><th>d</th><th>d</th><th>d</th><th>arcsec</th><th>arcsec</th><th>arcsec</th><th>arcsec</th><th></th><th></th><th>ct</th><th>ct</th><th>ct</th><th>ct</th><th>ct / s</th><th>ct / s</th><th>ct / s</th><th>ct / s</th><th>erg / (cm2 s)</th><th>erg / (cm2 s)</th><th>erg / (cm2 s)</th><th>erg / (cm2 s)</th><th>1 / arcmin2</th><th>s</th><th></th><th>ct</th><th>ct</th><th>s</th><th>pix</th><th></th><th></th><th>ct</th><th>ct</th><th>ct</th><th></th><th>ct / s</th><th>ct / s</th><th>ct / s</th><th></th><th>erg / (cm2 s)</th><th>erg / (cm2 s)</th><th>erg / (cm2 s)</th><th>erg / (cm2 s)</th><th>1 / arcmin2</th><th>s</th><th></th><th>ct</th><th>ct</th><th>s</th><th>pix</th><th></th><th></th><th>ct</th><th>ct</th><th>ct</th><th></th><th>ct / s</th><th>ct / s</th><th>ct / s</th><th>ct / s</th><th>erg / (cm2 s)</th><th>erg / (cm2 s)</th><th>erg / (cm2 s)</th><th>erg / (cm2 s)</th><th>1 / arcmin2</th><th>s</th><th></th><th></th><th>ct</th><th>s</th><th>pix</th><th></th><th></th><th>ct</th><th>ct</th><th>ct</th><th></th><th>ct / s</th><th>ct / s</th><th>ct / s</th><th>ct / s</th><th>erg / (cm2 s)</th><th>erg / (cm2 s)</th><th>erg / (cm2 s)</th><th>erg / (cm2 s)</th><th>erg / (cm2 s)</th><th>s</th><th></th><th>ct</th><th>ct</th><th>s</th><th>pix</th><th></th><th></th><th>ct</th><th>ct</th><th>ct</th><th></th><th>ct / s</th><th>ct / s</th><th>ct / s</th><th>ct / s</th><th>erg / (cm2 s)</th><th>erg / (cm2 s)</th><th>erg / (cm2 s)</th><th>erg / (cm2 s)</th><th>1 / arcmin2</th><th>s</th><th></th><th>ct</th><th>ct</th><th>s</th><th>pix</th><th></th><th></th><th>ct</th><th>ct</th><th>ct</th><th></th><th>ct / s</th><th>ct / s</th><th>ct / s</th><th>ct / s</th><th>erg / (cm2 s)</th><th>erg / (cm2 s)</th><th>erg / (cm2 s)</th><th>erg / (cm2 s)</th><th>1 / arcmin2</th><th>s</th><th></th><th>ct</th><th>ct</th><th>s</th><th>pix</th><th></th><th></th><th>ct</th><th>ct</th><th>ct</th><th></th><th>ct / s</th><th>ct / s</th><th>ct / s</th><th>ct / s</th><th>erg / (cm2 s)</th><th>erg / (cm2 s)</th><th>erg / (cm2 s)</th><th>erg / (cm2 s)</th><th>1 / arcmin2</th><th>s</th><th></th><th>ct</th><th>ct</th><th>s</th><th>pix</th><th></th><th></th><th>ct</th><th>ct</th><th>ct</th><th></th><th>ct / s</th><th>ct / s</th><th>ct / s</th><th>ct / s</th><th>erg / (cm2 s)</th><th>erg / (cm2 s)</th><th>erg / (cm2 s)</th><th>erg / (cm2 s)</th><th>1 / arcmin2</th><th>s</th><th></th><th>ct</th><th>ct</th><th>s</th><th>pix</th><th></th><th></th><th>ct</th><th>ct</th><th>ct</th><th></th><th>ct / s</th><th>ct / s</th><th>ct / s</th><th>ct / s</th><th>erg / (cm2 s)</th><th>erg / (cm2 s)</th><th>erg / (cm2 s)</th><th>erg / (cm2 s)</th><th>1 / arcmin2</th><th>s</th><th></th><th>ct</th><th>ct</th><th>s</th><th></th><th>pix</th><th></th><th>ct</th><th>ct</th><th>ct</th><th></th><th>ct / s</th><th>ct / s</th><th>ct / s</th><th>ct / s</th><th>erg / (cm2 s)</th><th>erg / (cm2 s)</th><th>erg / (cm2 s)</th><th>erg / (cm2 s)</th><th>1 / arcmin2</th><th>s</th><th></th><th>ct</th><th>ct</th><th>s</th><th>pix</th><th></th><th></th><th>ct</th><th>s</th><th></th><th></th><th></th><th></th><th></th><th></th><th></th><th></th><th></th><th></th></tr></thead>\n",
       "<thead><tr><th>bytes23</th><th>bytes32</th><th>int32</th><th>int32</th><th>int64</th><th>int64</th><th>int32</th><th>float64</th><th>float64</th><th>float64</th><th>float64</th><th>float32</th><th>float32</th><th>float32</th><th>float32</th><th>float32</th><th>float32</th><th>float64</th><th>float64</th><th>float64</th><th>float64</th><th>float32</th><th>float32</th><th>float32</th><th>float32</th><th>float32</th><th>float32</th><th>float32</th><th>float32</th><th>float32</th><th>float32</th><th>float32</th><th>float32</th><th>float32</th><th>float32</th><th>float32</th><th>float32</th><th>float32</th><th>float32</th><th>float32</th><th>float32</th><th>float32</th><th>float32</th><th>float32</th><th>float32</th><th>int32</th><th>float32</th><th>float32</th><th>float32</th><th>float32</th><th>float32</th><th>float32</th><th>float32</th><th>float32</th><th>float32</th><th>float32</th><th>float32</th><th>float32</th><th>float32</th><th>float32</th><th>float32</th><th>float32</th><th>float32</th><th>float32</th><th>float32</th><th>float32</th><th>int32</th><th>float32</th><th>float32</th><th>float32</th><th>float32</th><th>float32</th><th>float32</th><th>float32</th><th>float32</th><th>float32</th><th>float32</th><th>float32</th><th>float32</th><th>float32</th><th>float32</th><th>float32</th><th>float32</th><th>float32</th><th>float32</th><th>float32</th><th>float32</th><th>int32</th><th>float32</th><th>float32</th><th>float32</th><th>float32</th><th>float32</th><th>float32</th><th>float32</th><th>float32</th><th>float32</th><th>float32</th><th>float32</th><th>float32</th><th>float32</th><th>float32</th><th>float32</th><th>float32</th><th>float32</th><th>float32</th><th>float32</th><th>float32</th><th>int32</th><th>float32</th><th>float32</th><th>float32</th><th>float32</th><th>float32</th><th>float32</th><th>float32</th><th>float32</th><th>float32</th><th>float32</th><th>float32</th><th>float32</th><th>float32</th><th>float32</th><th>float32</th><th>float32</th><th>float32</th><th>float32</th><th>float32</th><th>float32</th><th>int32</th><th>float32</th><th>float32</th><th>float32</th><th>float32</th><th>float32</th><th>float32</th><th>float32</th><th>float32</th><th>float32</th><th>float32</th><th>float32</th><th>float32</th><th>float32</th><th>float32</th><th>float32</th><th>float32</th><th>float32</th><th>float32</th><th>float32</th><th>float32</th><th>int32</th><th>float32</th><th>float32</th><th>float32</th><th>float32</th><th>float32</th><th>float32</th><th>float32</th><th>float32</th><th>float32</th><th>float32</th><th>float32</th><th>float32</th><th>float32</th><th>float32</th><th>float32</th><th>float32</th><th>float32</th><th>float32</th><th>float32</th><th>float32</th><th>int32</th><th>float32</th><th>float32</th><th>float32</th><th>float32</th><th>float32</th><th>float32</th><th>float32</th><th>float32</th><th>float32</th><th>float32</th><th>float32</th><th>float32</th><th>float32</th><th>float32</th><th>float32</th><th>float32</th><th>float32</th><th>float32</th><th>float32</th><th>float32</th><th>int32</th><th>float32</th><th>float32</th><th>float32</th><th>float32</th><th>float32</th><th>float32</th><th>float32</th><th>float32</th><th>float32</th><th>float32</th><th>float32</th><th>float32</th><th>float32</th><th>float32</th><th>float32</th><th>float32</th><th>float32</th><th>float32</th><th>float32</th><th>float32</th><th>int32</th><th>float32</th><th>float32</th><th>float32</th><th>float32</th><th>float32</th><th>float32</th><th>float32</th><th>float32</th><th>float32</th><th>float32</th><th>float32</th><th>float32</th><th>float32</th><th>float32</th><th>float32</th><th>float32</th><th>float32</th><th>float32</th><th>float32</th><th>float32</th><th>int32</th><th>float32</th><th>float32</th><th>float32</th><th>float32</th><th>int32</th><th>float32</th><th>float32</th><th>float64</th><th>int16</th><th>int16</th><th>int16</th><th>int16</th><th>int16</th><th>int16</th><th>int16</th><th>int16</th><th>int16</th></tr></thead>\n",
       "<tr><td>1eRASS J002937.2-310209</td><td>eb01_009120_020_ML00003_002_c010</td><td>9120</td><td>3</td><td>100912000003</td><td>200912000004</td><td>2</td><td>7.405248991349619</td><td>-31.036102555952215</td><td>7.405691502577285</td><td>-31.035627699164376</td><td>0.86205614</td><td>0.944134</td><td>0.7470856</td><td>0.7322613</td><td>1.3675727</td><td>1.2771693</td><td>352.28558437668534</td><td>-83.83855933977271</td><td>353.03816957784124</td><td>-31.128088306335755</td><td>59002.516</td><td>59002.18</td><td>59003.016</td><td>0.0</td><td>0.0</td><td>0.0</td><td>0.0</td><td>0.0</td><td>792.53534</td><td>178.30687</td><td>13.893217</td><td>13.500502</td><td>14.2859335</td><td>1.6656617</td><td>0.12978412</td><td>0.12611555</td><td>0.1334527</td><td>1.5508955e-12</td><td>1.2084183e-13</td><td>1.1742602e-13</td><td>1.2425763e-13</td><td>0.61107576</td><td>107.04867</td><td>0.8836025</td><td>136</td><td>0.29777092</td><td>107.044205</td><td>7.4775095</td><td>0.0</td><td>232.81876</td><td>53.53176</td><td>7.542389</td><td>7.13924</td><td>7.9455395</td><td>0.492878</td><td>0.069444336</td><td>0.06573246</td><td>0.07315622</td><td>5.3474884e-13</td><td>7.534375e-14</td><td>7.131654e-14</td><td>7.937097e-14</td><td>0.18230565</td><td>108.61057</td><td>0.8923024</td><td>38</td><td>0.124087796</td><td>108.61027</td><td>6.948209</td><td>0.0</td><td>289.1295</td><td>65.43818</td><td>8.453674</td><td>8.069227</td><td>8.838122</td><td>0.60066086</td><td>0.077596776</td><td>0.07406791</td><td>0.08112564</td><td>4.419874e-13</td><td>5.709844e-14</td><td>5.4501776e-14</td><td>5.96951e-14</td><td>0.2511874</td><td>108.943634</td><td>0.8869417</td><td>53</td><td>0.17979038</td><td>108.944336</td><td>7.1675644</td><td>0.0</td><td>246.62772</td><td>56.129032</td><td>7.8715553</td><td>7.4620914</td><td>8.281019</td><td>0.5233077</td><td>0.07338885</td><td>0.0695713</td><td>0.0772064</td><td>5.160825e-13</td><td>7.23756e-14</td><td>6.861075e-14</td><td>7.6140435e-14</td><td>0.20672804</td><td>107.25819</td><td>0.8836025</td><td>42</td><td>0.17806518</td><td>107.2483</td><td>7.6342716</td><td>0.0</td><td>39.34789</td><td>10.775454</td><td>3.4704337</td><td>3.009849</td><td>3.9310186</td><td>0.12881704</td><td>0.041487902</td><td>0.035981763</td><td>0.046994045</td><td>7.986177e-13</td><td>2.5720956e-13</td><td>2.2307354e-13</td><td>2.913456e-13</td><td>0.2614946</td><td>83.64929</td><td>0.85624605</td><td>9</td><td>0.38132706</td><td>83.63217</td><td>9.675628</td><td>3.335272e-10</td><td>0.0</td><td>0.0</td><td>0.72521245</td><td>0.0</td><td>0.72521245</td><td>0.0</td><td>0.013675041</td><td>0.0</td><td>0.013675041</td><td>0.0</td><td>4.9261674e-13</td><td>0.0</td><td>4.9261674e-13</td><td>0.22028396</td><td>53.031834</td><td>0.73298055</td><td>0</td><td>0.520903</td><td>53.036995</td><td>13.010329</td><td>--</td><td>1.2088025</td><td>0.93709964</td><td>1.0820942</td><td>0.7487989</td><td>1.4153894</td><td>0.016614063</td><td>0.019184705</td><td>0.0132756345</td><td>0.025093775</td><td>4.989208e-13</td><td>5.761172e-13</td><td>3.986677e-13</td><td>7.535668e-13</td><td>0.40163213</td><td>56.404003</td><td>0.73298055</td><td>1</td><td>0.9503493</td><td>56.407146</td><td>13.010329</td><td>0.613394</td><td>0.0</td><td>0.0</td><td>0.72521245</td><td>0.0</td><td>0.72521245</td><td>0.0</td><td>0.012402995</td><td>0.0</td><td>0.012402995</td><td>0.0</td><td>3.2358453e-13</td><td>0.0</td><td>3.2358453e-13</td><td>0.071597084</td><td>58.470757</td><td>0.73298055</td><td>0</td><td>0.14038701</td><td>58.47959</td><td>11.8303385</td><td>--</td><td>0.0</td><td>0.0</td><td>0.72521245</td><td>0.0</td><td>0.72521245</td><td>0.0</td><td>0.014832436</td><td>0.0</td><td>0.014832436</td><td>0.0</td><td>6.7635367e-13</td><td>0.0</td><td>6.7635367e-13</td><td>0.06901672</td><td>48.893684</td><td>0.73298055</td><td>0</td><td>0.1632011</td><td>48.898243</td><td>13.010329</td><td>--</td><td>0.0</td><td>0.0</td><td>0.72521245</td><td>0.0</td><td>0.72521245</td><td>0.0</td><td>0.015975963</td><td>0.0</td><td>0.015975963</td><td>0.0</td><td>1.2936002e-12</td><td>0.0</td><td>1.2936002e-12</td><td>0.06587282</td><td>45.393974</td><td>0.70057523</td><td>0</td><td>0.1557675</td><td>45.398518</td><td>13.010329</td><td>--</td><td>95</td><td>0.35785556</td><td>108.28454</td><td>2.718602087327802e-191</td><td>0</td><td>0</td><td>0</td><td>0</td><td>0</td><td>0</td><td>0</td><td>0</td><td>0</td></tr>\n",
       "<tr><td>1eRASS J004207.0-283154</td><td>eb01_012120_020_ML00001_002_c010</td><td>12120</td><td>1</td><td>101212000001</td><td>201212000002</td><td>1</td><td>10.529384331589378</td><td>-28.53184186397606</td><td>10.529974038252844</td><td>-28.53137535302058</td><td>5.193748</td><td>5.2401633</td><td>5.0795074</td><td>5.0373898</td><td>6.015947</td><td>7.3778896</td><td>358.129995331396</td><td>-87.50759718257991</td><td>357.1706023068939</td><td>-30.138099831293147</td><td>59006.348</td><td>59005.848</td><td>59006.848</td><td>59.620598</td><td>3.230458</td><td>3.230458</td><td>--</td><td>201.22626</td><td>766.31586</td><td>824.8488</td><td>54.134743</td><td>52.17389</td><td>56.0956</td><td>7.248615</td><td>0.47572586</td><td>0.45849425</td><td>0.4929575</td><td>6.749176e-12</td><td>4.4294773e-13</td><td>4.269034e-13</td><td>4.589921e-13</td><td>0.64095813</td><td>113.79399</td><td>0.8836025</td><td>77</td><td>1.2665496</td><td>114.09675</td><td>7.744223</td><td>0.0</td><td>126.91425</td><td>144.34743</td><td>23.073996</td><td>21.974611</td><td>24.17338</td><td>1.2491568</td><td>0.19967823</td><td>0.19016434</td><td>0.2091921</td><td>1.3552748e-12</td><td>2.1664124e-13</td><td>2.0631913e-13</td><td>2.2696332e-13</td><td>0.20380099</td><td>115.55589</td><td>0.8923024</td><td>15</td><td>0.1627985</td><td>115.75975</td><td>7.191948</td><td>9.817317e-25</td><td>363.06485</td><td>354.09906</td><td>36.01561</td><td>33.668</td><td>38.363224</td><td>3.0515385</td><td>0.31037366</td><td>0.29014254</td><td>0.33060482</td><td>2.2454293e-12</td><td>2.2838385e-13</td><td>2.1349708e-13</td><td>2.4327065e-13</td><td>0.26308894</td><td>116.03952</td><td>0.8869417</td><td>28</td><td>0.2123346</td><td>116.148415</td><td>7.435277</td><td>0.0</td><td>313.86615</td><td>318.24695</td><td>34.64919</td><td>35.196377</td><td>34.10201</td><td>2.7822928</td><td>0.3029226</td><td>0.30770642</td><td>0.29813883</td><td>2.7438785e-12</td><td>2.9874025e-13</td><td>3.03458e-13</td><td>2.940225e-13</td><td>0.24074772</td><td>114.38298</td><td>0.8836025</td><td>29</td><td>0.27308458</td><td>114.338806</td><td>7.9007044</td><td>0.0</td><td>48.326664</td><td>84.352554</td><td>18.709717</td><td>17.472513</td><td>19.946918</td><td>0.94839966</td><td>0.21035863</td><td>0.19644842</td><td>0.22426885</td><td>5.879725e-12</td><td>1.3041453e-12</td><td>1.2179071e-12</td><td>1.3903835e-12</td><td>0.29079655</td><td>88.94199</td><td>0.85624605</td><td>10</td><td>0.47297248</td><td>89.01508</td><td>10.091228</td><td>1.0050813e-10</td><td>0.02742859</td><td>0.8681037</td><td>3.1349077</td><td>0.8681037</td><td>5.4017115</td><td>0.0153113</td><td>0.05529237</td><td>0.0153113</td><td>0.09527344</td><td>5.515598e-13</td><td>1.9918e-12</td><td>5.515598e-13</td><td>3.4320402e-12</td><td>0.23714516</td><td>56.69693</td><td>0.73298055</td><td>1</td><td>0.6085461</td><td>56.357002</td><td>13.593649</td><td>0.45585856</td><td>0.03196936</td><td>1.2602903</td><td>4.0056705</td><td>1.2602903</td><td>6.7510514</td><td>0.020889966</td><td>0.06639607</td><td>0.020889966</td><td>0.111902185</td><td>6.2732626e-13</td><td>1.993876e-12</td><td>6.2732626e-13</td><td>3.3604259e-12</td><td>0.4450702</td><td>60.329933</td><td>0.73298055</td><td>2</td><td>1.1419377</td><td>59.948353</td><td>13.593649</td><td>0.31629366</td><td>0.64221567</td><td>3.0122402</td><td>4.0956182</td><td>2.7883632</td><td>5.4028735</td><td>0.048175592</td><td>0.06550236</td><td>0.044595066</td><td>0.08640965</td><td>1.2568639e-12</td><td>1.7089059e-12</td><td>1.1634507e-12</td><td>2.254361e-12</td><td>0.075046524</td><td>62.52627</td><td>0.73298055</td><td>1</td><td>0.1584393</td><td>62.168865</td><td>12.347795</td><td>0.14652523</td><td>0.0</td><td>0.0</td><td>2.0382261</td><td>0.0</td><td>2.0382261</td><td>0.0</td><td>0.03924471</td><td>0.0</td><td>0.03924471</td><td>0.0</td><td>1.7895445e-12</td><td>0.0</td><td>1.7895445e-12</td><td>0.06701166</td><td>51.93633</td><td>0.73298055</td><td>0</td><td>0.17306468</td><td>51.944702</td><td>13.593649</td><td>--</td><td>0.0</td><td>0.0</td><td>2.0382261</td><td>0.0</td><td>2.0382261</td><td>0.0</td><td>0.042287808</td><td>0.0</td><td>0.042287808</td><td>0.0</td><td>3.4241139e-12</td><td>0.0</td><td>3.4241139e-12</td><td>0.07809406</td><td>48.198906</td><td>0.70057523</td><td>0</td><td>0.20214276</td><td>48.207104</td><td>13.593649</td><td>--</td><td>57</td><td>0.48541918</td><td>115.44443</td><td>1.966782731231264e-95</td><td>0</td><td>0</td><td>0</td><td>0</td><td>1</td><td>0</td><td>0</td><td>0</td><td>0</td></tr>\n",
       "<tr><td>1eRASS J004922.3-293108</td><td>eb01_012120_020_ML00003_002_c010</td><td>12120</td><td>3</td><td>101212000003</td><td>201212000003</td><td>2</td><td>12.342955472667219</td><td>-29.518979999095915</td><td>12.342879298989924</td><td>-29.51868447800596</td><td>4.5393124</td><td>4.52488</td><td>4.4474335</td><td>4.33573</td><td>5.2451754</td><td>6.4093523</td><td>313.57892792431204</td><td>-87.56658159215208</td><td>358.2935832489462</td><td>-31.73806817964248</td><td>59007.348</td><td>59006.848</td><td>59007.848</td><td>36.085476</td><td>3.5435152</td><td>3.4262319</td><td>3.6607983</td><td>102.0189</td><td>414.0925</td><td>291.66122</td><td>25.82145</td><td>25.118158</td><td>26.52474</td><td>2.4998407</td><td>0.22131673</td><td>0.21528879</td><td>0.22734466</td><td>2.3275986e-12</td><td>2.0606772e-13</td><td>2.0045512e-13</td><td>2.1168032e-13</td><td>0.643362</td><td>116.67193</td><td>0.8836025</td><td>54</td><td>0.94611514</td><td>116.70245</td><td>7.5802975</td><td>0.0</td><td>62.71497</td><td>51.487583</td><td>10.939844</td><td>10.160953</td><td>11.718736</td><td>0.43508333</td><td>0.092444494</td><td>0.08586267</td><td>0.09902633</td><td>4.720444e-13</td><td>1.00297815e-13</td><td>9.3156846e-14</td><td>1.07438784e-13</td><td>0.19325913</td><td>118.33959</td><td>0.8923024</td><td>8</td><td>0.13266444</td><td>118.38713</td><td>7.0349283</td><td>2.1151466e-12</td><td>164.51105</td><td>117.1965</td><td>16.523476</td><td>16.944592</td><td>16.10236</td><td>0.98665184</td><td>0.13910754</td><td>0.14265282</td><td>0.13556226</td><td>7.2601316e-13</td><td>1.02360225e-13</td><td>1.04968965e-13</td><td>9.975148e-14</td><td>0.26314467</td><td>118.78203</td><td>0.8869417</td><td>19</td><td>0.2593771</td><td>118.81516</td><td>7.271822</td><td>4.7057212e-29</td><td>174.38441</td><td>119.50059</td><td>16.66019</td><td>17.132044</td><td>16.188335</td><td>1.0219518</td><td>0.14247555</td><td>0.14651076</td><td>0.13844031</td><td>1.007842e-12</td><td>1.4050843e-13</td><td>1.4448794e-13</td><td>1.365289e-13</td><td>0.23132212</td><td>116.933685</td><td>0.8836025</td><td>22</td><td>0.21535966</td><td>116.96983</td><td>7.736268</td><td>1.5467e-36</td><td>25.518675</td><td>29.437721</td><td>8.382616</td><td>7.616397</td><td>9.148835</td><td>0.3235006</td><td>0.09211927</td><td>0.08369904</td><td>0.1005395</td><td>2.0055834e-12</td><td>5.711052e-13</td><td>5.189029e-13</td><td>6.2330745e-13</td><td>0.30205414</td><td>90.99742</td><td>0.85624605</td><td>8</td><td>0.41520345</td><td>91.031746</td><td>9.840454</td><td>1.51586e-08</td><td>0.1615344</td><td>1.3602753</td><td>2.937799</td><td>1.3602753</td><td>4.5153227</td><td>0.023555068</td><td>0.050872095</td><td>0.023555068</td><td>0.07818913</td><td>8.4852546e-13</td><td>1.8325682e-12</td><td>8.4852546e-13</td><td>2.816611e-12</td><td>0.25337318</td><td>57.74873</td><td>0.73298055</td><td>1</td><td>0.6225999</td><td>57.685562</td><td>13.237278</td><td>0.4634524</td><td>0.5652459</td><td>3.21355</td><td>3.9834573</td><td>3.0703</td><td>4.8966146</td><td>0.05234603</td><td>0.064887166</td><td>0.050012603</td><td>0.07976173</td><td>1.5719527e-12</td><td>1.9485635e-12</td><td>1.50188e-12</td><td>2.395247e-12</td><td>0.4548708</td><td>61.390526</td><td>0.73298055</td><td>2</td><td>1.1176882</td><td>61.358604</td><td>13.237278</td><td>0.30744192</td><td>0.0</td><td>0.0</td><td>1.3392781</td><td>0.0</td><td>1.3392781</td><td>0.0</td><td>0.021056695</td><td>0.0</td><td>0.021056695</td><td>0.0</td><td>5.493529e-13</td><td>0.0</td><td>5.493529e-13</td><td>0.08262047</td><td>63.603436</td><td>0.73298055</td><td>0</td><td>0.16675484</td><td>63.61787</td><td>12.034256</td><td>--</td><td>0.0</td><td>0.0</td><td>2.763304</td><td>0.0</td><td>2.763304</td><td>0.0</td><td>0.051975872</td><td>0.0</td><td>0.051975872</td><td>0.0</td><td>2.3700807e-12</td><td>0.0</td><td>2.3700807e-12</td><td>0.074771956</td><td>53.16513</td><td>0.73298055</td><td>0</td><td>0.18559201</td><td>53.171844</td><td>13.237278</td><td>--</td><td>0.0</td><td>0.0</td><td>1.3392781</td><td>0.0</td><td>1.3392781</td><td>0.0</td><td>0.027129496</td><td>0.0</td><td>0.027129496</td><td>0.0</td><td>2.1967202e-12</td><td>0.0</td><td>2.1967202e-12</td><td>0.07751735</td><td>49.366127</td><td>0.70057523</td><td>0</td><td>0.1906487</td><td>49.37286</td><td>13.237278</td><td>--</td><td>41</td><td>0.47473675</td><td>118.09731</td><td>1.0206998520229466e-63</td><td>0</td><td>0</td><td>0</td><td>0</td><td>1</td><td>0</td><td>0</td><td>0</td><td>0</td></tr>\n",
       "</table></div>"
      ],
      "text/plain": [
       "<Table length=3>\n",
       "        IAUNAME                      DETUID              ... FLAG_OPT\n",
       "                                                         ...         \n",
       "        bytes23                     bytes32              ...  int16  \n",
       "----------------------- -------------------------------- ... --------\n",
       "1eRASS J002937.2-310209 eb01_009120_020_ML00003_002_c010 ...        0\n",
       "1eRASS J004207.0-283154 eb01_012120_020_ML00001_002_c010 ...        0\n",
       "1eRASS J004922.3-293108 eb01_012120_020_ML00003_002_c010 ...        0"
      ]
     },
     "execution_count": 47,
     "metadata": {},
     "output_type": "execute_result"
    }
   ],
   "source": [
    "eRASS_sources_full = Table.read(\"../Data/eRASS1_Main.v1.1.fits\", format='fits')\n",
    "print(len(eRASS_sources_full), \"Sources\")\n",
    "eRASS_sources_full[0:3]"
   ]
  },
  {
   "cell_type": "markdown",
   "metadata": {},
   "source": [
    "Select the columns I will require so it is easier to use table.<br>\n",
    "\n",
    "- IAUNAME\n",
    "- UID\n",
    "- RA\n",
    "- DEC\n",
    "- RADEC_ERR\n",
    "- EXT\n",
    "- ML_FLUX_1\n",
    "\n",
    "\n",
    "Will also select point source (`EXT == 0`)\n"
   ]
  },
  {
   "cell_type": "code",
   "execution_count": 48,
   "metadata": {},
   "outputs": [
    {
     "name": "stdout",
     "output_type": "stream",
     "text": [
      "903521 Point Sources\n"
     ]
    },
    {
     "data": {
      "text/html": [
       "<div><i>Table length=5</i>\n",
       "<table id=\"table1684256173792\" class=\"table-striped table-bordered table-condensed\">\n",
       "<thead><tr><th>IAUNAME</th><th>UID</th><th>RA</th><th>DEC</th><th>RADEC_ERR</th><th>EXT</th><th>ML_FLUX_1</th></tr></thead>\n",
       "<thead><tr><th></th><th></th><th>deg</th><th>deg</th><th></th><th>arcsec</th><th>erg / (cm2 s)</th></tr></thead>\n",
       "<thead><tr><th>bytes23</th><th>int64</th><th>float64</th><th>float64</th><th>float32</th><th>float32</th><th>float32</th></tr></thead>\n",
       "<tr><td>1eRASS J002937.2-310209</td><td>100912000003</td><td>7.405248991349619</td><td>-31.036102555952215</td><td>1.2771693</td><td>0.0</td><td>1.5508955e-12</td></tr>\n",
       "<tr><td>1eRASS J005448.9-311230</td><td>101212000004</td><td>13.70410463883818</td><td>-31.208436362171515</td><td>1.652596</td><td>0.0</td><td>6.9885916e-13</td></tr>\n",
       "<tr><td>1eRASS J012910.8-214156</td><td>102111100001</td><td>22.295164764919686</td><td>-21.698997556091005</td><td>0.62720245</td><td>0.0</td><td>3.4790614e-12</td></tr>\n",
       "<tr><td>1eRASS J012338.1-231059</td><td>102111400001</td><td>20.90908484230626</td><td>-23.183134713205</td><td>1.2023203</td><td>0.0</td><td>1.1919693e-11</td></tr>\n",
       "<tr><td>1eRASS J015219.0-183235</td><td>102710800003</td><td>28.079291921052764</td><td>-18.543088853166505</td><td>1.3169006</td><td>0.0</td><td>8.0001153e-13</td></tr>\n",
       "</table></div>"
      ],
      "text/plain": [
       "<Table length=5>\n",
       "        IAUNAME             UID      ...   EXT     ML_FLUX_1  \n",
       "                                     ...  arcsec erg / (cm2 s)\n",
       "        bytes23            int64     ... float32    float32   \n",
       "----------------------- ------------ ... ------- -------------\n",
       "1eRASS J002937.2-310209 100912000003 ...     0.0 1.5508955e-12\n",
       "1eRASS J005448.9-311230 101212000004 ...     0.0 6.9885916e-13\n",
       "1eRASS J012910.8-214156 102111100001 ...     0.0 3.4790614e-12\n",
       "1eRASS J012338.1-231059 102111400001 ...     0.0 1.1919693e-11\n",
       "1eRASS J015219.0-183235 102710800003 ...     0.0 8.0001153e-13"
      ]
     },
     "execution_count": 48,
     "metadata": {},
     "output_type": "execute_result"
    }
   ],
   "source": [
    "eRASS_sources = eRASS_sources_full['IAUNAME', 'UID', 'RA', 'DEC', 'RADEC_ERR', 'EXT', 'ML_FLUX_1']\n",
    "eRASS_sources = eRASS_sources[eRASS_sources['EXT']== 0]\n",
    "print(len(eRASS_sources), \"Point Sources\")\n",
    "eRASS_sources[0:5]"
   ]
  },
  {
   "cell_type": "markdown",
   "metadata": {},
   "source": [
    "## GAIA QSOs"
   ]
  },
  {
   "cell_type": "markdown",
   "metadata": {},
   "source": [
    "Gaia data from [gaia archive](https://gea.esac.esa.int/archive/) using the follow Query:<br>\n",
    "```SQL\n",
    "SELECT g.source_id, g.ra, g.dec, g.pm, qs.gaia_crf_source,\n",
    "qs.host_galaxy_flag, qs.classprob_dsc_combmod_quasar,\n",
    "qs.classlabel_dsc_joint, qs.vari_best_class_name, qs.redshift_qsoc\n",
    "FROM gaiadr3.qso_candidates as qs\n",
    "JOIN gaiadr3.gaia_source as g\n",
    "USING (solution_id, source_id)\n",
    "WHERE (qs.gaia_crf_source='true' OR qs.host_galaxy_flag<6\n",
    "OR qs.classlabel_dsc_joint='quasar' OR qs.vari_best_class_name='AGN')\n",
    "```\n",
    "<br>\n",
    "\n",
    "This query is based on the one listed in [Table 11 of the GAIA DR3 extragalactic paper](https://doi.org/10.1051/0004-6361/202243232)"
   ]
  },
  {
   "cell_type": "code",
   "execution_count": 49,
   "metadata": {},
   "outputs": [
    {
     "name": "stderr",
     "output_type": "stream",
     "text": [
      "c:\\Users\\Toby\\anaconda3\\envs\\Personal\\lib\\site-packages\\astropy\\io\\ascii\\fastbasic.py:128: AstropyWarning: OverflowError converting to IntType in column source_id, reverting to String.\n",
      "  data, comments = self.engine.read(try_int, try_float, try_string)\n"
     ]
    },
    {
     "name": "stdout",
     "output_type": "stream",
     "text": [
      "1942825 Sources\n"
     ]
    },
    {
     "data": {
      "text/html": [
       "<div><i>Table length=3</i>\n",
       "<table id=\"table1683236971904\" class=\"table-striped table-bordered table-condensed\">\n",
       "<thead><tr><th>source_id</th><th>ra</th><th>dec</th><th>pm</th><th>gaia_crf_source</th><th>host_galaxy_flag</th><th>classprob_dsc_combmod_quasar</th><th>classlabel_dsc_joint</th><th>vari_best_class_name</th><th>redshift_qsoc</th></tr></thead>\n",
       "<thead><tr><th>str19</th><th>float64</th><th>float64</th><th>float64</th><th>str5</th><th>int32</th><th>float64</th><th>str12</th><th>str15</th><th>float64</th></tr></thead>\n",
       "<tr><td>4152040546849964288</td><td>269.42343013804424</td><td>-11.250076967522755</td><td>1.1517469</td><td>true</td><td>--</td><td>1.2516455e-07</td><td>unclassified</td><td>--</td><td>--</td></tr>\n",
       "<tr><td>5939392802025441152</td><td>252.6345739540496</td><td>-47.708030634186045</td><td>1.6419761</td><td>false</td><td>3</td><td>2.2428847e-07</td><td>unclassified</td><td>SYST</td><td>--</td></tr>\n",
       "<tr><td>5939534600358282880</td><td>250.96523522423945</td><td>-47.670558949993385</td><td>2.3291168</td><td>false</td><td>3</td><td>0.00018701961</td><td>unclassified</td><td>--</td><td>--</td></tr>\n",
       "</table></div>"
      ],
      "text/plain": [
       "<Table length=3>\n",
       "     source_id              ra         ... vari_best_class_name redshift_qsoc\n",
       "       str19             float64       ...        str15            float64   \n",
       "------------------- ------------------ ... -------------------- -------------\n",
       "4152040546849964288 269.42343013804424 ...                   --            --\n",
       "5939392802025441152  252.6345739540496 ...                 SYST            --\n",
       "5939534600358282880 250.96523522423945 ...                   --            --"
      ]
     },
     "execution_count": 49,
     "metadata": {},
     "output_type": "execute_result"
    }
   ],
   "source": [
    "gaia_qso_sources = Table.read(\"../Data/GAIA_Quasars_Full.csv\")\n",
    "print(len(gaia_qso_sources), \"Sources\")\n",
    "gaia_qso_sources[0:3]"
   ]
  },
  {
   "cell_type": "markdown",
   "metadata": {},
   "source": [
    "Many of these sources do not have redshift so remove these and also only select required columns\n",
    "\n",
    "- source_id\n",
    "- ra\n",
    "- dec\n",
    "- redshift_qsoc"
   ]
  },
  {
   "cell_type": "code",
   "execution_count": 50,
   "metadata": {},
   "outputs": [
    {
     "name": "stdout",
     "output_type": "stream",
     "text": [
      "1729625 Sources with redshifts\n"
     ]
    },
    {
     "data": {
      "text/html": [
       "<div><i>Table length=5</i>\n",
       "<table id=\"table1684256346560\" class=\"table-striped table-bordered table-condensed\">\n",
       "<thead><tr><th>source_id</th><th>ra</th><th>dec</th><th>redshift_qsoc</th></tr></thead>\n",
       "<thead><tr><th>str19</th><th>float64</th><th>float64</th><th>float64</th></tr></thead>\n",
       "<tr><td>5823582960248697728</td><td>230.7076929999774</td><td>-67.69752390372247</td><td>2.491088</td></tr>\n",
       "<tr><td>5823596601041876736</td><td>230.68012821621508</td><td>-67.6218345443544</td><td>0.15514289</td></tr>\n",
       "<tr><td>5823630514109745664</td><td>231.10371480375875</td><td>-67.28434173231645</td><td>0.74870634</td></tr>\n",
       "<tr><td>5823637111177947520</td><td>231.06011701973114</td><td>-67.10952092968711</td><td>0.09709132</td></tr>\n",
       "<tr><td>5823659754273471872</td><td>230.6431087626876</td><td>-67.14305101603547</td><td>3.3342328</td></tr>\n",
       "</table></div>"
      ],
      "text/plain": [
       "<Table length=5>\n",
       "     source_id              ra                dec         redshift_qsoc\n",
       "       str19             float64            float64          float64   \n",
       "------------------- ------------------ ------------------ -------------\n",
       "5823582960248697728  230.7076929999774 -67.69752390372247      2.491088\n",
       "5823596601041876736 230.68012821621508  -67.6218345443544    0.15514289\n",
       "5823630514109745664 231.10371480375875 -67.28434173231645    0.74870634\n",
       "5823637111177947520 231.06011701973114 -67.10952092968711    0.09709132\n",
       "5823659754273471872  230.6431087626876 -67.14305101603547     3.3342328"
      ]
     },
     "execution_count": 50,
     "metadata": {},
     "output_type": "execute_result"
    }
   ],
   "source": [
    "gaia_qso_sources = gaia_qso_sources[~np.isnan(gaia_qso_sources['redshift_qsoc']).mask]\n",
    "gaia_qso_sources = gaia_qso_sources['source_id', 'ra', 'dec', 'redshift_qsoc']\n",
    "print(len(gaia_qso_sources), \"Sources with redshifts\")\n",
    "gaia_qso_sources[0:5]"
   ]
  },
  {
   "cell_type": "markdown",
   "metadata": {},
   "source": [
    "### Purer GAIA Quasars"
   ]
  },
  {
   "cell_type": "markdown",
   "metadata": {},
   "source": [
    "Basically same as normal gaia except with `AND` instead of `OR`.\n",
    "Not sure if this will actually be cleaner, but I thought it was strange than many were labeled as `\"unclassified\"`\n"
   ]
  },
  {
   "cell_type": "code",
   "execution_count": 51,
   "metadata": {},
   "outputs": [
    {
     "name": "stdout",
     "output_type": "stream",
     "text": [
      "214104 Quasar Sources\n"
     ]
    },
    {
     "data": {
      "text/html": [
       "<div><i>Table length=3</i>\n",
       "<table id=\"table1684255757120\" class=\"table-striped table-bordered table-condensed\">\n",
       "<thead><tr><th>source_id</th><th>ra</th><th>dec</th><th>redshift_qsoc</th></tr></thead>\n",
       "<thead><tr><th>str19</th><th>float64</th><th>float64</th><th>float64</th></tr></thead>\n",
       "<tr><td>6653810339087893504</td><td>273.6394413022079</td><td>-53.20260279604084</td><td>1.7522463</td></tr>\n",
       "<tr><td>6836620846036858880</td><td>327.1195114093446</td><td>-18.471707923850712</td><td>1.5499382</td></tr>\n",
       "<tr><td>6836649089741920384</td><td>327.5054348897559</td><td>-18.33581567293887</td><td>1.9532677</td></tr>\n",
       "</table></div>"
      ],
      "text/plain": [
       "<Table length=3>\n",
       "     source_id              ra                dec         redshift_qsoc\n",
       "       str19             float64            float64          float64   \n",
       "------------------- ----------------- ------------------- -------------\n",
       "6653810339087893504 273.6394413022079  -53.20260279604084     1.7522463\n",
       "6836620846036858880 327.1195114093446 -18.471707923850712     1.5499382\n",
       "6836649089741920384 327.5054348897559  -18.33581567293887     1.9532677"
      ]
     },
     "execution_count": 51,
     "metadata": {},
     "output_type": "execute_result"
    }
   ],
   "source": [
    "purer_gaia_sources = Table.read(\"../Data/purer_GAIA_Quasars.csv\")\n",
    "print(len(purer_gaia_sources), \"Quasar Sources\")\n",
    "## Don't need to check for redshifts since all have redshifts\n",
    "# purer_gaia_sources = purer_gaia_sources[~np.isnan(purer_gaia_sources['redshift_qsoc']).mask]\n",
    "purer_gaia_sources = purer_gaia_sources['source_id', 'ra', 'dec', 'redshift_qsoc']\n",
    "purer_gaia_sources[0:3]"
   ]
  },
  {
   "cell_type": "markdown",
   "metadata": {},
   "source": [
    "# Crossmatching"
   ]
  },
  {
   "cell_type": "code",
   "execution_count": null,
   "metadata": {},
   "outputs": [],
   "source": []
  }
 ],
 "metadata": {
  "kernelspec": {
   "display_name": "Personal",
   "language": "python",
   "name": "python3"
  },
  "language_info": {
   "codemirror_mode": {
    "name": "ipython",
    "version": 3
   },
   "file_extension": ".py",
   "mimetype": "text/x-python",
   "name": "python",
   "nbconvert_exporter": "python",
   "pygments_lexer": "ipython3",
   "version": "3.9.12"
  }
 },
 "nbformat": 4,
 "nbformat_minor": 2
}
